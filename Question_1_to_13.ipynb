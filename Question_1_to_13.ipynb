{
 "cells": [
  {
   "cell_type": "code",
   "execution_count": 5,
   "metadata": {},
   "outputs": [
    {
     "name": "stdout",
     "output_type": "stream",
     "text": [
      "- 민아\n",
      "- 혜리\n",
      "- 유라\n",
      "- 소진\n"
     ]
    }
   ],
   "source": [
    "###1.\n",
    "\n",
    "girlsday_members= ['민아','혜리','유라','소진']\n",
    "\n",
    "for girl in girlsday_members:\n",
    "    print(f'- {girl}')"
   ]
  },
  {
   "cell_type": "code",
   "execution_count": null,
   "metadata": {},
   "outputs": [],
   "source": []
  },
  {
   "cell_type": "code",
   "execution_count": null,
   "metadata": {},
   "outputs": [],
   "source": []
  },
  {
   "cell_type": "code",
   "execution_count": 49,
   "metadata": {},
   "outputs": [
    {
     "name": "stdout",
     "output_type": "stream",
     "text": [
      "[0] RED: Apple \n",
      "[1] YELLOW: Banana \n",
      "[2] GRENN: Melon \n"
     ]
    }
   ],
   "source": [
    "###2.\n",
    "\n",
    "fruit_dict = {\n",
    "    'red':'apple',\n",
    "    'yellow':'banana',\n",
    "    'grenn':'melon',\n",
    "}\n",
    "\n",
    "index=0\n",
    "for key, value in fruit_dict.items():\n",
    "    \n",
    "    value_single_upper= \"\".join([list(value)[0].upper()]+list(value)[1:])\n",
    "    print(f'[{index}] {key.upper()}: {value_single_upper} ')\n",
    "    index+=1"
   ]
  },
  {
   "cell_type": "code",
   "execution_count": null,
   "metadata": {},
   "outputs": [],
   "source": []
  },
  {
   "cell_type": "code",
   "execution_count": null,
   "metadata": {},
   "outputs": [],
   "source": []
  },
  {
   "cell_type": "markdown",
   "metadata": {},
   "source": [
    "### ###3\n",
    "\n",
    "list의 'copy()'메서드가 하는 일.\n",
    "\n",
    "->\n",
    "copy() 메소드는 리스트를 말그대로 복사하기 위해서 사용한다. \n",
    "\n",
    "하지만 = 연산자를 통해서 복사 할때와는 조금 다르다.\n",
    "\n",
    "리스트에 값이 할당될때 메모리 상에서 한 공간을 가리키게 된다.\n",
    "a=['1','2','3','4']\n",
    "이렇게 할당 한 상태에서 \n",
    "b=a 이런식으로 복사를 하게되면 \n",
    "b는 a와 메모리 상에서 같은 곳을 가리키기 때문에\n",
    "a[1]='100'\n",
    "이런식으로 수정해 주게 되면 \n",
    "b[1]또한 '100'으로 값이 바뀌게 된다.\n",
    "\n",
    "copy()메소드로 복사를 하게되면 새로운 리스트가 기존의 리스트와 다른 주소를 할당 받고 \n",
    "거기에 기존의 리스트에 있던 값들을 가지고 오게 된다.\n",
    "\n",
    "아래에서 예를 살펴보겠다.\n",
    "\n",
    "\n",
    "\n"
   ]
  },
  {
   "cell_type": "code",
   "execution_count": 60,
   "metadata": {},
   "outputs": [
    {
     "name": "stdout",
     "output_type": "stream",
     "text": [
      "a1  :   [1, 100, 3, 4, 5]\n",
      "b1  :   [1, 100, 3, 4, 5]\n",
      "a2  :   [1, 100, 3, 4, 5]\n",
      "b2  :   [1, 2, 3, 4, 5]\n"
     ]
    }
   ],
   "source": [
    "###3 이어서\n",
    "###'copy()'를 사용하지 않았을 때 발생할 수 있는 오류에대한 예제 코드 \n",
    "\n",
    "#copy를 사용하지 않았을때.\n",
    "a1=[1,2,3,4,5]\n",
    "b1=a1\n",
    "a1[1]=100\n",
    "print(f'a1  :   {a1}')\n",
    "print(f'b1  :   {b1}') #a와 b의 값이 모두 바뀐것을 확인 할 수 있다.\n",
    "\n",
    "\n",
    "#copy를 사용했을때.\n",
    "\n",
    "a2=[1,2,3,4,5]\n",
    "b2=a2.copy()\n",
    "a2[1]=100\n",
    "print(f'a2  :   {a2}')\n",
    "print(f'b2  :   {b2}') # b는 바뀌지 않는다. \n",
    "\n"
   ]
  },
  {
   "cell_type": "code",
   "execution_count": null,
   "metadata": {},
   "outputs": [],
   "source": []
  },
  {
   "cell_type": "code",
   "execution_count": null,
   "metadata": {},
   "outputs": [],
   "source": []
  },
  {
   "cell_type": "code",
   "execution_count": 67,
   "metadata": {},
   "outputs": [
    {
     "name": "stdout",
     "output_type": "stream",
     "text": [
      "[3, 7, 11, 15, 19, 23, 27]\n"
     ]
    }
   ],
   "source": [
    "###4\n",
    "\n",
    "list_a= [i for i in range(3,31,4)]\n",
    "\n",
    "print(list_a)\n"
   ]
  },
  {
   "cell_type": "code",
   "execution_count": null,
   "metadata": {},
   "outputs": [],
   "source": []
  },
  {
   "cell_type": "code",
   "execution_count": null,
   "metadata": {},
   "outputs": [],
   "source": []
  },
  {
   "cell_type": "markdown",
   "metadata": {},
   "source": [
    "### ###5\n",
    "\n",
    "obj['key']를 사용하게 되면 만약 obj안에 key값으로 'key'가 없을경우 Key error가 생기지만  \n",
    "obj.get('key')를 사용하면 key값으로 'key'가 없어도 에러가 생기지 않고 None값이 반환된다."
   ]
  },
  {
   "cell_type": "code",
   "execution_count": 73,
   "metadata": {},
   "outputs": [
    {
     "name": "stdout",
     "output_type": "stream",
     "text": [
      "None\n"
     ]
    }
   ],
   "source": [
    "obj ={'no1':'1','no2':'2'}\n",
    "\n",
    "#아래 주석을 풀고 obj['key'] 호출시 에러 생긴다.\n",
    "#obj['key']\n",
    "\n",
    "#이경우는 에러가 생기지 않는다.\n",
    "print(obj.get('key'))"
   ]
  },
  {
   "cell_type": "code",
   "execution_count": null,
   "metadata": {},
   "outputs": [],
   "source": []
  },
  {
   "cell_type": "code",
   "execution_count": null,
   "metadata": {},
   "outputs": [],
   "source": []
  },
  {
   "cell_type": "markdown",
   "metadata": {},
   "source": [
    "###6\n",
    "\n",
    "var1, var2 = (1,2) 이런식으로 \n",
    "\n",
    "튜플의 요소를 변수 여러 개에 할당하는 것을 튜플 언패킹(tuple unpacking)이라고 한다."
   ]
  },
  {
   "cell_type": "code",
   "execution_count": 79,
   "metadata": {},
   "outputs": [
    {
     "name": "stdout",
     "output_type": "stream",
     "text": [
      "피카츄 :전기 타입\n",
      "파이리 :불 타입\n",
      "꼬부기 :물 타입\n",
      "이상해씨 :풀 타입\n"
     ]
    }
   ],
   "source": [
    "###6 이어서 \n",
    "pokemon_info = [\n",
    "    ('피카츄', '전기 타입'),\n",
    "    ('파이리', '불 타입'),\n",
    "    ('꼬부기', '물 타입'),\n",
    "    ('이상해씨', '풀 타입'),\n",
    "]\n",
    "\n",
    "for this_is_tuple in pokemon_info:\n",
    "    name1, type1 = this_is_tuple\n",
    "    \n",
    "    print(f'{name1} :{type1}')"
   ]
  },
  {
   "cell_type": "code",
   "execution_count": null,
   "metadata": {},
   "outputs": [],
   "source": []
  },
  {
   "cell_type": "code",
   "execution_count": null,
   "metadata": {},
   "outputs": [],
   "source": []
  },
  {
   "cell_type": "markdown",
   "metadata": {},
   "source": [
    "### 7  \n",
    "위치인자와 키워드인자의 차이.\n",
    "\n",
    "위치인자와 키워드 인자는 함수의 매개변수(arguments) 이다.\n",
    "\n",
    "함수에서 매개변수의 순서대로 인자를 전달하여 사용하는 경우 위치인자(Positional arguments)\n",
    "\n",
    "함수에서 매개변수의 이름을 지정하여 인자로 전달하여 사용하는 경우 키워드인자(Keyword arguments) 라고 한다.\n",
    "\n",
    "\n",
    "\n",
    "\n",
    "\n",
    "예를들어 이런식으로 함수를 선언했다고 했을때  \n",
    "def student(name, age, gender):\n",
    "\n",
    "\n",
    "\n",
    "위치인자의 경우 이렇게 매개변수 들을 명시안하고 각각의 맞는 위치에 인자들을 대입한다.  \n",
    " student('hanyeong.lee', 30, 'male')\n",
    " \n",
    " \n",
    "반면에 키워드 인자는 이렇게 매개변수의 이름을 명시하고 알맞은 인자를 대입한다.  \n",
    " student(age=30, name='hanyeong.lee', gender='male')"
   ]
  },
  {
   "cell_type": "code",
   "execution_count": null,
   "metadata": {},
   "outputs": [],
   "source": []
  },
  {
   "cell_type": "code",
   "execution_count": null,
   "metadata": {},
   "outputs": [],
   "source": []
  },
  {
   "cell_type": "markdown",
   "metadata": {},
   "source": [
    "### ###8  \n",
    "\n",
    "\n",
    "- 클래스와 인스턴스의 차이점 [2점]\n",
    "   \n",
    "  ```bash\n",
    "  \n",
    "  클래스는 말 그대로 빵틀이다. 클래스에는 어떤 인스턴스(객체)를 만들 것인 가에 대한 설계도가 들어있다.\n",
    "  이것은 인스턴스가 어떤 기능(메소드),정보(속성, 어트리뷰트 )을 가질지에 대한 설계도이다.\n",
    "  이것이 실체화 되어서 어떤 기능을 하고 속성을 나타내기 위해서는 클래스를 바탕으로 인스턴스를 만들어 줘야 한다.\n",
    "  \n",
    "  ```\n",
    "\n",
    "- 클래스의 생성자 함수 이름 [1점]  \n",
    "\n",
    "  ```bash\n",
    "      __init__\n",
    "  ```\n",
    "  \n",
    "- 클래스의 생성자 함수가 호출되는 시점은? [2점]  \n",
    "  ```bash\n",
    "      객체를 생성할때 호출된다.\n",
    "  ```\n",
    "- 인스턴스 메서드의 `self`매개변수의 의미 [4점]  \n",
    "    ```bash\n",
    "        객체 자신을 의미한다.\n",
    "        예를들어 init함수에서\n",
    "        \n",
    "        __init__(self,id):\n",
    "            self.webtoon_id=id\n",
    "          \n",
    "          이렇게 선언되어 있는 경우 self는 객체 자신을 나타내기때문에\n",
    "          self.webtoon_id는 그 객채의 weebtooon_id 속성을 나타낸다.\n",
    "         \n",
    "    ```\n",
    "\n",
    "\n"
   ]
  },
  {
   "cell_type": "code",
   "execution_count": null,
   "metadata": {},
   "outputs": [],
   "source": []
  },
  {
   "cell_type": "code",
   "execution_count": null,
   "metadata": {},
   "outputs": [],
   "source": []
  },
  {
   "cell_type": "markdown",
   "metadata": {},
   "source": [
    "### ###8\n",
    "\n",
    "###getter 만드는 방법에 대해서 서술\n",
    "\n",
    "```bash\n",
    "    getter는 보통 인스턴스의 속성을 get하기 위해서 사용하는데 값을 변경하지않고 return만 해준다.\n",
    "    \n",
    "    예를들어 name 이라는 속성이 있다면 기존의 name이라는 속성을 선언할때 앞에 __name이런식으로 붙여서\n",
    "    클래스 외부에서의 접근을 차단한다.\n",
    "    \n",
    "    보통 property라는 decorator를 먼저 써주고 함수의 이름은 속성의 원래 이름과 같게 만든다.\n",
    "    \n",
    "    그후 원래 속성의 name값을 self.__name이런식으로 써서 리턴 해준다.\n",
    "    \n",
    "    이런 식으로\n",
    "    @property\n",
    "        def name(self):\n",
    "        return self.__name\n",
    "    \n",
    "```\n",
    "\n",
    "\n",
    "###setter 만드는 방법에 대해서 서술 \n",
    "\n",
    "```bash\n",
    "    setter는 인스턴스의 속성을 set 하기 위해, 즉 바꿔주기 위해서 사용한다.\n",
    "    \n",
    "    name이라는 속성에 대해 setter를 만들경우\n",
    "    \n",
    "    @name.setter 이런식으로 데코레이터를 함수 선언 전에 작성해주고\n",
    "    \n",
    "    함수 명은 getter 때 처럼 name속성으 이름과 같게 한다.\n",
    "   \n",
    "   다만 받는인자에 self외에 new_name 이 하나더 있어서 \n",
    "   \n",
    "   setter선언후  name='새로운이름' 이렇게 할당해줄경우 __name 속성이 '새로운 이름'으로 바뀐다.\n",
    "   \n",
    "   함수 내부를 보면 self.__name 에  받은 new_name을 대입해주고 이를 print해준다.\n",
    "   \n",
    "   이런식으로 \n",
    "   \n",
    "   @property\n",
    "    def name(self):\n",
    "        return self.__name\n",
    "\n",
    "    @name.setter\n",
    "    def name(self, new_name):\n",
    "        self.__name = new_name\n",
    "        print('Set new name ({})'.format(self.__name))\n",
    "\n",
    "   \n",
    "```\n",
    "\n"
   ]
  },
  {
   "cell_type": "code",
   "execution_count": null,
   "metadata": {},
   "outputs": [],
   "source": []
  },
  {
   "cell_type": "code",
   "execution_count": null,
   "metadata": {},
   "outputs": [],
   "source": []
  },
  {
   "cell_type": "code",
   "execution_count": 81,
   "metadata": {},
   "outputs": [],
   "source": [
    "###10\n",
    "\n",
    "class User:\n",
    "    def __init__(self, name):\n",
    "        self.name = name\n",
    "        \n",
    "class Student(User):\n",
    "    def __init__(self,name,age):\n",
    "        super().__init__(name)\n",
    "        self.age = age"
   ]
  },
  {
   "cell_type": "code",
   "execution_count": null,
   "metadata": {},
   "outputs": [],
   "source": []
  },
  {
   "cell_type": "code",
   "execution_count": null,
   "metadata": {},
   "outputs": [],
   "source": []
  },
  {
   "cell_type": "code",
   "execution_count": 151,
   "metadata": {},
   "outputs": [
    {
     "name": "stdout",
     "output_type": "stream",
     "text": [
      "top[#2] 격전을 준비하세요! (수정)\n",
      "2018-05-18\n",
      "18,741\n",
      "top격전 참여시 불건전 행위에 대한 주의사항 안내(수정)\n",
      "2018-04-26\n",
      "34,476\n",
      "대리 게임 등 적발 현황 263차 안내\n",
      "2018-06-08\n",
      "5,377\n",
      "부정행위 프로그램 제재 현황 안내\n",
      "2018-06-08\n",
      "2,134\n",
      "6월 2차 소환사 문화재지킴이 모집 안내\n",
      "2018-06-08\n",
      "2,041\n",
      "일부 클라이언트 오류 현상에 대한 안내 (정상화)\n",
      "2018-06-06\n",
      "10,140\n",
      "6월 6일(수) 서버 점검 안내 (완료)\n",
      "2018-06-05\n",
      "40,432\n",
      "PBE 인사이드 20화(8.12 패치 편) 방송 안내\n",
      "2018-06-04\n",
      "9,206\n",
      "다시 돌아온 격전! 얼불져스 6/5(화) 방송 일정 안내\n",
      "2018-06-03\n",
      "14,295\n",
      "1일 격전 테스트에 참여해 주세요\n",
      "2018-06-03\n",
      "16,443\n",
      "대리 게임 등 적발 현황 262차 안내\n",
      "2018-06-01\n",
      "3,222\n",
      "부정행위 프로그램 제재 현황 안내\n",
      "2018-06-01\n",
      "1,220\n"
     ]
    }
   ],
   "source": [
    "###11\n",
    "\n",
    "import requests\n",
    "from bs4 import BeautifulSoup\n",
    "\n",
    "url = 'http://www.leagueoflegends.co.kr/?m=news&cate=notice'\n",
    "response = requests.get(url)\n",
    "html =response.text\n",
    "\n",
    "soup =BeautifulSoup(html,'lxml')\n",
    "\n",
    "#print(soup.prettify())\n",
    "\n",
    "# table=soup.select('div.contents-table tr a')\n",
    "\n",
    "# for tr in table:\n",
    "#     print (tr.text)\n",
    "\n",
    "table=soup.select('div.contents-table tr')\n",
    "\n",
    "for tr in table:\n",
    "    #print (tr)\n",
    "    a_title = tr.select_one('a')\n",
    "    if a_title:\n",
    "        print(a_title.text)\n",
    "        title=a_title.text\n",
    "\n",
    "\n",
    "    td = tr.select('td:nth-of-type(2)')\n",
    "    if td:\n",
    "        print(td[0].text)\n",
    "        date=td[0].text\n",
    "\n",
    "    td = tr.select('td:nth-of-type(3)')\n",
    "    if td:\n",
    "        print(td[0].text)\n",
    "        view=td[0].text\n",
    "\n",
    "    "
   ]
  },
  {
   "cell_type": "code",
   "execution_count": 157,
   "metadata": {},
   "outputs": [],
   "source": [
    "###12 \n",
    "\n",
    "url = 'http://www.leagueoflegends.co.kr/?m=news&cate=notice'\n",
    "\n",
    "class Notice:\n",
    "    def __init__(self,title,date,view):\n",
    "        self.title=title\n",
    "        self.date=date\n",
    "        self.view=view\n",
    "        \n",
    "\n",
    "     \n",
    "            \n",
    "\n",
    "    \n",
    "notice_list=[]\n",
    "\n",
    "def get_Notice_all():\n",
    "    \n",
    "        response = requests.get(url)\n",
    "        html =response.text\n",
    "        soup =BeautifulSoup(html,'lxml')\n",
    "\n",
    "        table=soup.select('div.contents-table tr')\n",
    "\n",
    "        for tr in table:\n",
    "            a_title = tr.select_one('a')\n",
    "            if a_title:\n",
    "                title=a_title.text\n",
    "\n",
    "            td = tr.select('td:nth-of-type(2)')\n",
    "            if td:\n",
    "                date=td[0].text\n",
    "\n",
    "            td = tr.select('td:nth-of-type(3)')\n",
    "            if td:\n",
    "                view=td[0].text\n",
    "                new_notice = Notice(title, date, view)\n",
    "                notice_list.append(new_notice)\n",
    "                \n",
    "\n",
    "                \n",
    "                table=soup.select('div.contents-table tr')\n",
    "\n"
   ]
  },
  {
   "cell_type": "code",
   "execution_count": 158,
   "metadata": {},
   "outputs": [],
   "source": [
    "get_Notice_all()"
   ]
  },
  {
   "cell_type": "code",
   "execution_count": 160,
   "metadata": {},
   "outputs": [
    {
     "name": "stdout",
     "output_type": "stream",
     "text": [
      "top[#2] 격전을 준비하세요! (수정)\n",
      "2018-05-18\n",
      "18,741\n",
      " \n",
      "top격전 참여시 불건전 행위에 대한 주의사항 안내(수정)\n",
      "2018-04-26\n",
      "34,476\n",
      " \n",
      "대리 게임 등 적발 현황 263차 안내\n",
      "2018-06-08\n",
      "5,379\n",
      " \n",
      "부정행위 프로그램 제재 현황 안내\n",
      "2018-06-08\n",
      "2,134\n",
      " \n",
      "6월 2차 소환사 문화재지킴이 모집 안내\n",
      "2018-06-08\n",
      "2,042\n",
      " \n",
      "일부 클라이언트 오류 현상에 대한 안내 (정상화)\n",
      "2018-06-06\n",
      "10,140\n",
      " \n",
      "6월 6일(수) 서버 점검 안내 (완료)\n",
      "2018-06-05\n",
      "40,432\n",
      " \n",
      "PBE 인사이드 20화(8.12 패치 편) 방송 안내\n",
      "2018-06-04\n",
      "9,206\n",
      " \n",
      "다시 돌아온 격전! 얼불져스 6/5(화) 방송 일정 안내\n",
      "2018-06-03\n",
      "14,295\n",
      " \n",
      "1일 격전 테스트에 참여해 주세요\n",
      "2018-06-03\n",
      "16,443\n",
      " \n",
      "대리 게임 등 적발 현황 262차 안내\n",
      "2018-06-01\n",
      "3,222\n",
      " \n",
      "부정행위 프로그램 제재 현황 안내\n",
      "2018-06-01\n",
      "1,220\n",
      " \n"
     ]
    }
   ],
   "source": [
    "for notice in notice_list:\n",
    "    print(notice.title)\n",
    "    print(notice.date)\n",
    "    print(notice.view)\n",
    "    print(' ')\n"
   ]
  },
  {
   "cell_type": "code",
   "execution_count": null,
   "metadata": {},
   "outputs": [],
   "source": []
  },
  {
   "cell_type": "code",
   "execution_count": null,
   "metadata": {},
   "outputs": [],
   "source": []
  },
  {
   "cell_type": "code",
   "execution_count": null,
   "metadata": {},
   "outputs": [],
   "source": []
  }
 ],
 "metadata": {
  "kernelspec": {
   "display_name": "Python 3",
   "language": "python",
   "name": "python3"
  },
  "language_info": {
   "codemirror_mode": {
    "name": "ipython",
    "version": 3
   },
   "file_extension": ".py",
   "mimetype": "text/x-python",
   "name": "python",
   "nbconvert_exporter": "python",
   "pygments_lexer": "ipython3",
   "version": "3.6.5"
  }
 },
 "nbformat": 4,
 "nbformat_minor": 2
}
